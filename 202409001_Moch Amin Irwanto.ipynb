{
 "cells": [
  {
   "cell_type": "markdown",
   "metadata": {},
   "source": [
    "var1 = [1, 2, 3, 4]\n",
    "\n",
    "1. Print tipe dari var1\n",
    "\n",
    "2. Print panjang dari var1"
   ]
  },
  {
   "cell_type": "code",
   "execution_count": 63,
   "metadata": {},
   "outputs": [
    {
     "name": "stdout",
     "output_type": "stream",
     "text": [
      "tipe dari list var1 adalah  <class 'list'>\n",
      "elemen-elemen asli var1 :  [1, 2, 3, 4]\n"
     ]
    }
   ],
   "source": [
    "var1 = [1,2,3,4]\n",
    "print(\"tipe dari list var1 adalah \",type(var1))\n",
    "\n",
    "print(\"elemen-elemen asli var1 : \",var1)"
   ]
  },
  {
   "cell_type": "code",
   "execution_count": 7,
   "metadata": {},
   "outputs": [
    {
     "name": "stdout",
     "output_type": "stream",
     "text": [
      "banyaknya elemen adalah  4\n"
     ]
    }
   ],
   "source": [
    "print(\"banyaknya elemen adalah \",len (var1))"
   ]
  },
  {
   "cell_type": "markdown",
   "metadata": {},
   "source": [
    "first = [11.25, 18.0, 20.0] \n",
    "\n",
    "second = [10.75, 9.50]\n",
    "\n",
    "3. Gabungkan list first dengan second simpan dengan nama variabel full, print vraiabel full\n",
    "\n",
    "4. Urutkan full dengan descending order simpan pada variabel full_sorted, print full_sorted"
   ]
  },
  {
   "cell_type": "code",
   "execution_count": 64,
   "metadata": {},
   "outputs": [
    {
     "name": "stdout",
     "output_type": "stream",
     "text": [
      "gabungan list first dan second adalah  [11.25, 18.0, 20.0, 10.75, 9.5]\n"
     ]
    }
   ],
   "source": [
    "first=[11.25,18.0,20.0]\n",
    "second=[10.75,9.50]\n",
    "variabel_full=first+second\n",
    "print(\"gabungan list first dan second adalah \",variabel_full)"
   ]
  },
  {
   "cell_type": "code",
   "execution_count": 66,
   "metadata": {},
   "outputs": [
    {
     "name": "stdout",
     "output_type": "stream",
     "text": [
      "urutan descending order yaitu  [20.0, 18.0, 11.25, 10.75, 9.5]\n"
     ]
    }
   ],
   "source": [
    "full_sorted=sorted(variabel_full, reverse=True)\n",
    "print(\"urutan descending order yaitu \",full_sorted)"
   ]
  },
  {
   "cell_type": "markdown",
   "metadata": {},
   "source": [
    "area = [11.25, 18.0, 20.0, 10.75, 9.50]\n",
    "\n",
    "5. Print hasilnya dengan menggunakan index() untuk mencari index dari 20.0 \n",
    "\n",
    "6. Print  hasilnya dengan menggunakan count() berapa sering 14.5 muncul di area\n",
    "\n",
    "7. Gunakan append dua kali untuk menambahkan 24.5 dan 15.45, print area\n",
    "\n",
    "8. Balik urutan area dengan reverse(), print area\n"
   ]
  },
  {
   "cell_type": "code",
   "execution_count": 67,
   "metadata": {},
   "outputs": [
    {
     "name": "stdout",
     "output_type": "stream",
     "text": [
      "20.0\n"
     ]
    }
   ],
   "source": [
    "area=[11.25, 18.0, 20.0, 10.75, 9.5]\n",
    "\n",
    "print(area[2])"
   ]
  },
  {
   "cell_type": "code",
   "execution_count": 68,
   "metadata": {},
   "outputs": [
    {
     "name": "stdout",
     "output_type": "stream",
     "text": [
      "14.5 muncul sebanyak  0\n"
     ]
    }
   ],
   "source": [
    "print(\"14.5 muncul sebanyak \",area.count(14.5))"
   ]
  },
  {
   "cell_type": "code",
   "execution_count": 72,
   "metadata": {},
   "outputs": [
    {
     "name": "stdout",
     "output_type": "stream",
     "text": [
      "Berikut update list area  [11.25, 18.0, 20.0, 10.75, 9.5, 24.5, 24.5, 15.45, 24.5, 15.45]\n",
      "Berikut update list area  [11.25, 18.0, 20.0, 10.75, 9.5, 24.5, 24.5, 15.45, 15.45]\n"
     ]
    }
   ],
   "source": [
    "area.append(24.5)\n",
    "area.append(15.45)\n",
    "print(\"Berikut update list area \",area)\n",
    "del area[-2]\n",
    "print(\"Berikut update list area \",area)"
   ]
  },
  {
   "cell_type": "code",
   "execution_count": 74,
   "metadata": {},
   "outputs": [
    {
     "name": "stdout",
     "output_type": "stream",
     "text": [
      "Berikut update list area  [11.25, 18.0, 20.0, 10.75, 9.5, 24.5, 15.45]\n"
     ]
    }
   ],
   "source": [
    "del area[-3]\n",
    "del area[-1]\n",
    "print(\"Berikut update list area \",area)"
   ]
  },
  {
   "cell_type": "code",
   "execution_count": 80,
   "metadata": {},
   "outputs": [
    {
     "name": "stdout",
     "output_type": "stream",
     "text": [
      "Berikut urutan list area  [24.5, 20.0, 18.0, 15.45, 11.25, 10.75, 9.5]\n"
     ]
    }
   ],
   "source": [
    "print(\"Berikut urutan list area \",sorted(area, reverse=True))"
   ]
  },
  {
   "cell_type": "markdown",
   "metadata": {},
   "source": [
    "Masih ingat tentang lingkaran?\n",
    "$$ Keliling = 2\\pi r $$\n",
    "$$ Luas = \\pi r^2 $$\n",
    "\n",
    "- Kamu bisa mendapatkan pi dengan cara import math kemudian panggil dengan math.pi\n"
   ]
  },
  {
   "cell_type": "markdown",
   "metadata": {},
   "source": [
    "r = 0.43\n",
    "\n",
    "9. Hitung keliling simpan dalam variabel keliling\n",
    "\n",
    "10. Hitung luas simpan dalam variabel luas\n",
    "\n",
    "11. Selesaikan Print ini : print(\"Keliling: \" + ) dan print(\"Luas: \" + )"
   ]
  },
  {
   "cell_type": "code",
   "execution_count": 83,
   "metadata": {},
   "outputs": [
    {
     "name": "stdout",
     "output_type": "stream",
     "text": [
      "Nilai pi :  3.141592653589793\n",
      "Jadi keliling dari lingkaran tersebut adalah 2.701769682087222\n"
     ]
    }
   ],
   "source": [
    "import math\n",
    "print (\"Nilai pi : \",math.pi)\n",
    "r=0.43\n",
    "\n",
    "Keliling=2*math.pi*r\n",
    "print(\"Jadi keliling dari lingkaran tersebut adalah\", Keliling)"
   ]
  },
  {
   "cell_type": "code",
   "execution_count": 84,
   "metadata": {},
   "outputs": [
    {
     "name": "stdout",
     "output_type": "stream",
     "text": [
      "Jadi Luas dari lingkaran tersebut adalah 0.5808804816487527\n"
     ]
    }
   ],
   "source": [
    "Luas=math.pi*r*r\n",
    "print(\"Jadi Luas dari lingkaran tersebut adalah\", Luas)"
   ]
  },
  {
   "cell_type": "code",
   "execution_count": 88,
   "metadata": {},
   "outputs": [
    {
     "name": "stdout",
     "output_type": "stream",
     "text": [
      "Keliling  :  2.701769682087222\n",
      "Luas      :  0.5808804816487527\n"
     ]
    }
   ],
   "source": [
    "print(\"Keliling  : \",Keliling)\n",
    "print(\"Luas      : \",Luas)"
   ]
  },
  {
   "cell_type": "markdown",
   "metadata": {},
   "source": [
    "area_3 = [\"hallway\", 11.25, \"kitchen\", 18.0,\n",
    "        \"chill zone\", 20.0, \"bedroom\", 10.75,\n",
    "         \"bathroom\", 10.50, \"poolhouse\", 24.5,\n",
    "         \"garage\", 15.45]\n",
    "\n",
    "12. Silahkan hapus 4 elemen terakhir, print area_3"
   ]
  },
  {
   "cell_type": "code",
   "execution_count": 104,
   "metadata": {},
   "outputs": [
    {
     "name": "stdout",
     "output_type": "stream",
     "text": [
      "Berikut update list area_3 : ['hallway', 11.25, 'kitchen', 18.0, 'chill zone', 20.0, 'bedroom', 10.75, 'bathroom', 10.5] dengan banyak elemen 10\n"
     ]
    }
   ],
   "source": [
    "area_3 = [\"hallway\", 11.25, \"kitchen\", 18.0, \"chill zone\", 20.0, \"bedroom\", 10.75, \"bathroom\", 10.50, \"poolhouse\", 24.5, \"garage\", 15.45]\n",
    "del area_3 [10:14]\n",
    "print(\"Berikut update list area_3 :\", area_3,\"dengan banyak elemen\", len(area_3))"
   ]
  },
  {
   "cell_type": "markdown",
   "metadata": {},
   "source": [
    "area_4 = [\"hallway\", 11.25, \"kitchen\", 18.0, \"living room\", 20.0, \"bedroom\", 10.75, \"bathroom\", 9.50]\n",
    "\n",
    "13. Ganti nilai dari \"bathroom\" menjadi 10.8, print area_4\n",
    "\n",
    "14. Ganti \"living room\" menjadi \"ruang tamu\", print area_4"
   ]
  },
  {
   "cell_type": "code",
   "execution_count": 106,
   "metadata": {},
   "outputs": [
    {
     "name": "stdout",
     "output_type": "stream",
     "text": [
      "Berikut update data list area_4  ['hallway', 11.25, 'kitchen', 18.0, 'living room', 20.0, 'bedroom', 10.75, 'bathroom', 10.8]\n"
     ]
    }
   ],
   "source": [
    "area_4 = [\"hallway\", 11.25, \"kitchen\", 18.0, \"living room\", 20.0, \"bedroom\", 10.75, \"bathroom\", 9.50]\n",
    "\n",
    "area_4[-1]=10.8\n",
    "\n",
    "print(\"Berikut update data list area_4 \",area_4)"
   ]
  },
  {
   "cell_type": "code",
   "execution_count": 109,
   "metadata": {},
   "outputs": [
    {
     "name": "stdout",
     "output_type": "stream",
     "text": [
      "Berikut update data list area_4  ['hallway', 11.25, 'kitchen', 18.0, 'ruang tamu', 20.0, 'bedroom', 10.75, 'bathroom', 10.8]\n"
     ]
    }
   ],
   "source": [
    "area_4[4]=\"ruang tamu\"\n",
    "    \n",
    "print(\"Berikut update data list area_4 \",area_4)"
   ]
  },
  {
   "cell_type": "markdown",
   "metadata": {},
   "source": [
    "2024090001_Moch_Amin_Irwanto"
   ]
  },
  {
   "cell_type": "code",
   "execution_count": null,
   "metadata": {},
   "outputs": [],
   "source": []
  }
 ],
 "metadata": {
  "kernelspec": {
   "display_name": "Python 3",
   "language": "python",
   "name": "python3"
  },
  "language_info": {
   "codemirror_mode": {
    "name": "ipython",
    "version": 3
   },
   "file_extension": ".py",
   "mimetype": "text/x-python",
   "name": "python",
   "nbconvert_exporter": "python",
   "pygments_lexer": "ipython3",
   "version": "3.8.3"
  }
 },
 "nbformat": 4,
 "nbformat_minor": 4
}
